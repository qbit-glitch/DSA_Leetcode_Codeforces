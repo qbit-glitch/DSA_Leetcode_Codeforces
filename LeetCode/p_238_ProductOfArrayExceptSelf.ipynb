{
 "cells": [
  {
   "cell_type": "markdown",
   "id": "229ac9e3",
   "metadata": {},
   "source": [
    "## Concept : Prefix Sum\n",
    "\n",
    "YT : https://youtu.be/xbYr9JOC2Lk?si=dbsz42XVsmmFsQyv\n"
   ]
  },
  {
   "cell_type": "code",
   "execution_count": 1,
   "id": "ffaefa3c",
   "metadata": {},
   "outputs": [
    {
     "name": "stdout",
     "output_type": "stream",
     "text": [
      "[0, 8, 11, 9, 13, 23, 22, 22, 27, 30]\n"
     ]
    }
   ],
   "source": [
    "a = [8,3,-2,4,10,-1,0,5,3]\n",
    "\n",
    "n = len(a)\n",
    "p = [0] * (n+1)\n",
    "\n",
    "for i in range(1, n+1):\n",
    "    p[i] = p[i-1] + a[i-1]\n",
    "\n",
    "print(p)"
   ]
  },
  {
   "cell_type": "markdown",
   "id": "e784faf0",
   "metadata": {},
   "source": [
    "## Problem Solution : \n",
    "\n",
    "Question : https://leetcode.com/problems/product-of-array-except-self/description/"
   ]
  },
  {
   "cell_type": "code",
   "execution_count": 4,
   "id": "9f1360a6",
   "metadata": {},
   "outputs": [
    {
     "data": {
      "text/plain": [
       "[1, -1, -1, 0, 0, 0]"
      ]
     },
     "execution_count": 4,
     "metadata": {},
     "output_type": "execute_result"
    }
   ],
   "source": [
    "nums = [-1, 1, 0, -3, 3]\n",
    "\n",
    "n = len(nums)\n",
    "\n",
    "p = [1] * (n+1)\n",
    "\n",
    "for i in range(1, n+1):\n",
    "    p[i] = p[i-1] * nums[i-1]\n",
    "\n",
    "p"
   ]
  },
  {
   "cell_type": "code",
   "execution_count": null,
   "id": "50338947",
   "metadata": {},
   "outputs": [],
   "source": []
  }
 ],
 "metadata": {
  "kernelspec": {
   "display_name": "base",
   "language": "python",
   "name": "python3"
  },
  "language_info": {
   "codemirror_mode": {
    "name": "ipython",
    "version": 3
   },
   "file_extension": ".py",
   "mimetype": "text/x-python",
   "name": "python",
   "nbconvert_exporter": "python",
   "pygments_lexer": "ipython3",
   "version": "3.12.10"
  }
 },
 "nbformat": 4,
 "nbformat_minor": 5
}
