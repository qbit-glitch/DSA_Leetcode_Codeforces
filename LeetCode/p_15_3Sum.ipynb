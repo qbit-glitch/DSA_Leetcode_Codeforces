{
 "cells": [
  {
   "cell_type": "markdown",
   "id": "b8ac5c8a",
   "metadata": {},
   "source": [
    "# 15. 3 Sum\n",
    "\n",
    "Leetcode : https://leetcode.com/problems/3sum/description/"
   ]
  },
  {
   "cell_type": "code",
   "execution_count": null,
   "id": "28c01be9",
   "metadata": {},
   "outputs": [],
   "source": [
    "nums = [-1,0,1,2,-1,4]"
   ]
  },
  {
   "cell_type": "markdown",
   "id": "a1cb1522",
   "metadata": {},
   "source": [
    "## 1. Brute Force Approach\n",
    "\n",
    "Notes : \n",
    "- Convert the array into a tuple to insert it inside a set coz set can only contain hashable elements like integers, strings, lambdas, tuples.\n",
    "- initialize an empty set using `set()`"
   ]
  },
  {
   "cell_type": "code",
   "execution_count": 19,
   "id": "7c6ffb98",
   "metadata": {},
   "outputs": [
    {
     "data": {
      "text/plain": [
       "[(-1, 0, 1), (-1, -1, 2)]"
      ]
     },
     "execution_count": 19,
     "metadata": {},
     "output_type": "execute_result"
    }
   ],
   "source": [
    "def threeSumBruteForce(nums):\n",
    "    n = len(nums)\n",
    "    my_set = set()\n",
    "    for i in range(0, n):\n",
    "        for j in range(i+1, n):\n",
    "            for k in range(j+1, n):\n",
    "                if nums[i]+nums[j]+nums[k] == 0:\n",
    "                    temp = [nums[i], nums[j], nums[k]]\n",
    "                    temp.sort()\n",
    "                    my_set.add(tuple(temp))\n",
    "    \n",
    "    answer = list(my_set)\n",
    "    return answer\n",
    "\n",
    "threeSumBruteForce(nums)"
   ]
  },
  {
   "cell_type": "markdown",
   "id": "cc9949e8",
   "metadata": {},
   "source": [
    "## 2. Using Hashing\n",
    "\n",
    "- Slightly better approach"
   ]
  },
  {
   "cell_type": "code",
   "execution_count": 20,
   "id": "66f6e455",
   "metadata": {},
   "outputs": [
    {
     "data": {
      "text/plain": [
       "[(-1, 0, 1), (-1, -1, 2)]"
      ]
     },
     "execution_count": 20,
     "metadata": {},
     "output_type": "execute_result"
    }
   ],
   "source": [
    "def threeSumHashing(nums):\n",
    "    n = len(nums)\n",
    "    my_set = set()\n",
    "    for i in range(0, n):\n",
    "        hashset = set()\n",
    "        for j in range(i+1, n):\n",
    "            third = - (nums[i] + nums[j])\n",
    "            if third in hashset :\n",
    "                temp = [nums[i], nums[j], third]\n",
    "                temp.sort()\n",
    "                my_set.add(tuple(temp))\n",
    "            hashset.add(nums[j])\n",
    "    answer = list(my_set)\n",
    "    return answer\n",
    "\n",
    "threeSumHashing(nums)"
   ]
  },
  {
   "cell_type": "markdown",
   "id": "ea40a328",
   "metadata": {},
   "source": [
    "### 3. Using 2 Pointer Approch\n",
    "\n",
    "- most optimized for space\n",
    "- sort the array\n",
    "- apply two pointer approach"
   ]
  },
  {
   "cell_type": "code",
   "execution_count": 29,
   "id": "74b0098c",
   "metadata": {},
   "outputs": [
    {
     "data": {
      "text/plain": [
       "[[-1, -1, 2], [-1, 0, 1]]"
      ]
     },
     "execution_count": 29,
     "metadata": {},
     "output_type": "execute_result"
    }
   ],
   "source": [
    "def threeSum2Pointer(nums):\n",
    "    n = len(nums)\n",
    "    # print(n)\n",
    "    nums.sort()\n",
    "    answer = []\n",
    "    for i in range(0, n):\n",
    "        if i>0 and nums[i] == nums[i-1]:\n",
    "            continue\n",
    "        j = i+1\n",
    "        k = n-1\n",
    "        \n",
    "        while j<k :\n",
    "            # print(i,j,k)\n",
    "            totalSum = nums[i] + nums[j] + nums[k]\n",
    "            if totalSum < 0:\n",
    "                j += 1\n",
    "            elif totalSum > 0:\n",
    "                k -= 1\n",
    "            else:\n",
    "                temp = [nums[i], nums[j], nums[k]]\n",
    "                answer.append(temp)\n",
    "                k -= 1\n",
    "                j += 1\n",
    "                while j<k and nums[j] == nums[j-1] : \n",
    "                    j += 1\n",
    "                while j<k and nums[k]==nums[k+1]:\n",
    "                    k -= 1\n",
    "    return answer\n",
    "\n",
    "threeSum2Pointer(nums)"
   ]
  },
  {
   "cell_type": "code",
   "execution_count": null,
   "id": "d0a5568e",
   "metadata": {},
   "outputs": [],
   "source": []
  }
 ],
 "metadata": {
  "kernelspec": {
   "display_name": "base",
   "language": "python",
   "name": "python3"
  },
  "language_info": {
   "codemirror_mode": {
    "name": "ipython",
    "version": 3
   },
   "file_extension": ".py",
   "mimetype": "text/x-python",
   "name": "python",
   "nbconvert_exporter": "python",
   "pygments_lexer": "ipython3",
   "version": "3.12.10"
  }
 },
 "nbformat": 4,
 "nbformat_minor": 5
}
