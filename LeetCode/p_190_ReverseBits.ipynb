{
 "cells": [
  {
   "cell_type": "markdown",
   "id": "543e9627",
   "metadata": {},
   "source": [
    "# 190. Reverse Bits\n",
    "\n",
    "Leetcode: https://leetcode.com/problems/reverse-bits/description/"
   ]
  },
  {
   "cell_type": "code",
   "execution_count": null,
   "id": "14984296",
   "metadata": {},
   "outputs": [],
   "source": [
    "\n",
    "\n",
    "def reverseBits(n):\n",
    "    ans = 0\n",
    "    for i in range(32):\n",
    "        if n >> i & 1 :\n",
    "            ans |= 1 << 31-i\n",
    "    return ans\n",
    "\n",
    "\n"
   ]
  },
  {
   "cell_type": "code",
   "execution_count": null,
   "id": "ee072eef",
   "metadata": {},
   "outputs": [],
   "source": []
  }
 ],
 "metadata": {
  "kernelspec": {
   "display_name": "base",
   "language": "python",
   "name": "python3"
  },
  "language_info": {
   "codemirror_mode": {
    "name": "ipython",
    "version": 3
   },
   "file_extension": ".py",
   "mimetype": "text/x-python",
   "name": "python",
   "nbconvert_exporter": "python",
   "pygments_lexer": "ipython3",
   "version": "3.12.10"
  }
 },
 "nbformat": 4,
 "nbformat_minor": 5
}
