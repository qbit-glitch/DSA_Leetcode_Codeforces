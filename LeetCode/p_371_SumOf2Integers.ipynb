{
 "cells": [
  {
   "cell_type": "markdown",
   "id": "ff67d8b4",
   "metadata": {},
   "source": [
    "# 371. Sum Of two integers\n",
    "\n",
    "Leetcode: https://leetcode.com/problems/sum-of-two-integers/description/\n"
   ]
  },
  {
   "cell_type": "code",
   "execution_count": 3,
   "id": "5716cf8f",
   "metadata": {},
   "outputs": [
    {
     "name": "stdout",
     "output_type": "stream",
     "text": [
      "3\n"
     ]
    }
   ],
   "source": [
    "a = 1\n",
    "b = 2\n",
    "\n",
    "def getSum(a, b):\n",
    "    \"\"\"\n",
    "    :type a: int\n",
    "    :type b: int\n",
    "    :rtype: int\n",
    "    \"\"\"\n",
    "    bitShortener = 0xff\n",
    "\n",
    "    while (b & bitShortener) > 0:\n",
    "        carry = (a & b) << 1\n",
    "        a = (a ^ b)\n",
    "        b = carry\n",
    "    \n",
    "    return (a & bitShortener) if b>0 else a\n",
    "\n",
    "print(getSum(a,b))"
   ]
  },
  {
   "cell_type": "code",
   "execution_count": null,
   "id": "1415d84c",
   "metadata": {},
   "outputs": [],
   "source": []
  }
 ],
 "metadata": {
  "kernelspec": {
   "display_name": "base",
   "language": "python",
   "name": "python3"
  },
  "language_info": {
   "codemirror_mode": {
    "name": "ipython",
    "version": 3
   },
   "file_extension": ".py",
   "mimetype": "text/x-python",
   "name": "python",
   "nbconvert_exporter": "python",
   "pygments_lexer": "ipython3",
   "version": "3.12.10"
  }
 },
 "nbformat": 4,
 "nbformat_minor": 5
}
