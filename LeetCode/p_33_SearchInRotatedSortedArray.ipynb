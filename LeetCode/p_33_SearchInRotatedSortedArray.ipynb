{
 "cells": [
  {
   "cell_type": "markdown",
   "id": "d309f22e",
   "metadata": {},
   "source": [
    "# 33. Search In Rotated Sorted Array\n",
    "\n",
    "Leetcode: https://leetcode.com/problems/search-in-rotated-sorted-array/description/\n",
    "\n",
    "Solution Resource YT: https://youtu.be/5qGrJbHhqFs?si=9EFz7qyBjb2IHNFn\n"
   ]
  },
  {
   "cell_type": "code",
   "execution_count": 21,
   "id": "e2c6feda",
   "metadata": {},
   "outputs": [],
   "source": [
    "def search(nums, target):\n",
    "    low = 0\n",
    "    high = len(nums)-1\n",
    "    while low <= high:\n",
    "        mid = (low+high)//2\n",
    "        if nums[mid]==target:\n",
    "            return mid\n",
    "        #Left Sorted\n",
    "        elif nums[low] <= nums[mid] : \n",
    "            if nums[low]<= target and target <= nums[mid]:\n",
    "                high = mid-1\n",
    "            else:\n",
    "                low = mid + 1\n",
    "         # Right Sorted\n",
    "        else:\n",
    "            if nums[mid] <= target and target <= nums[high]:\n",
    "                low = mid + 1\n",
    "            else: \n",
    "                high = mid-1\n",
    "    return -1\n"
   ]
  },
  {
   "cell_type": "code",
   "execution_count": 22,
   "id": "1dfc0a81",
   "metadata": {},
   "outputs": [
    {
     "data": {
      "text/plain": [
       "4"
      ]
     },
     "execution_count": 22,
     "metadata": {},
     "output_type": "execute_result"
    }
   ],
   "source": [
    "nums = [4,5,6,7,0,1,2]\n",
    "target = 0\n",
    "\n",
    "search(nums, target)"
   ]
  },
  {
   "cell_type": "code",
   "execution_count": null,
   "id": "e4377cea",
   "metadata": {},
   "outputs": [],
   "source": []
  }
 ],
 "metadata": {
  "kernelspec": {
   "display_name": "base",
   "language": "python",
   "name": "python3"
  },
  "language_info": {
   "codemirror_mode": {
    "name": "ipython",
    "version": 3
   },
   "file_extension": ".py",
   "mimetype": "text/x-python",
   "name": "python",
   "nbconvert_exporter": "python",
   "pygments_lexer": "ipython3",
   "version": "3.12.10"
  }
 },
 "nbformat": 4,
 "nbformat_minor": 5
}
