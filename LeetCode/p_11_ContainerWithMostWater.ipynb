{
 "cells": [
  {
   "cell_type": "markdown",
   "id": "54190e19",
   "metadata": {},
   "source": [
    "# 11. Container With Most Water\n",
    "\n",
    "Leetcode : https://leetcode.com/problems/container-with-most-water/description/\n",
    "\n",
    "Concept Used : 2 Pointer Approach\n"
   ]
  },
  {
   "cell_type": "code",
   "execution_count": 1,
   "id": "09725cfe",
   "metadata": {},
   "outputs": [],
   "source": [
    "nums = [1,8,6,2,5,4,8,3,7]"
   ]
  },
  {
   "cell_type": "code",
   "execution_count": 4,
   "id": "472b1e32",
   "metadata": {},
   "outputs": [
    {
     "name": "stdout",
     "output_type": "stream",
     "text": [
      "8\n",
      "49\n"
     ]
    },
    {
     "data": {
      "text/plain": [
       "49"
      ]
     },
     "execution_count": 4,
     "metadata": {},
     "output_type": "execute_result"
    }
   ],
   "source": [
    "def maxArea(height):\n",
    "    n = len(height)\n",
    "    l = 0\n",
    "    h = n-1\n",
    "    maxArea = 0\n",
    "    while l<h:\n",
    "        area = min(height[l],height[h])*(h-l)\n",
    "        if maxArea < area:\n",
    "            maxArea = area\n",
    "            print(maxArea)\n",
    "        if height[l] <= height[h]:\n",
    "            l += 1\n",
    "        else:\n",
    "            h -= 1\n",
    "    return maxArea\n",
    "\n",
    "maxArea(nums)"
   ]
  },
  {
   "cell_type": "code",
   "execution_count": null,
   "id": "5ca1463e",
   "metadata": {},
   "outputs": [],
   "source": []
  }
 ],
 "metadata": {
  "kernelspec": {
   "display_name": "base",
   "language": "python",
   "name": "python3"
  },
  "language_info": {
   "codemirror_mode": {
    "name": "ipython",
    "version": 3
   },
   "file_extension": ".py",
   "mimetype": "text/x-python",
   "name": "python",
   "nbconvert_exporter": "python",
   "pygments_lexer": "ipython3",
   "version": "3.12.10"
  }
 },
 "nbformat": 4,
 "nbformat_minor": 5
}
