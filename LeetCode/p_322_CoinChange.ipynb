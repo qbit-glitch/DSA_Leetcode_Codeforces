{
 "cells": [
  {
   "cell_type": "markdown",
   "id": "d40467a0",
   "metadata": {},
   "source": [
    "# 322. Coin Change\n",
    "\n",
    "Leetcode: https://leetcode.com/problems/coin-change/description/\n",
    "\n",
    "Solution Referece Resource: https://youtu.be/H9bfqozjoqs?si=cTuoFQt8Z1mAk8ia"
   ]
  },
  {
   "cell_type": "code",
   "execution_count": 8,
   "id": "0f050215",
   "metadata": {},
   "outputs": [],
   "source": [
    "def coinChange(coins, amount) :\n",
    "    dp = [amount+1] * (amount+1)\n",
    "    dp[0] = 0\n",
    "    for a in range(1, amount + 1):\n",
    "        for c in coins:\n",
    "            if a-c >= 0:\n",
    "                dp[a] = min(dp[a], 1+dp[a-c])\n",
    "    return dp[amount] if dp[amount] != amount + 1 else -1"
   ]
  },
  {
   "cell_type": "code",
   "execution_count": 9,
   "id": "ea4e4a15",
   "metadata": {},
   "outputs": [
    {
     "data": {
      "text/plain": [
       "3"
      ]
     },
     "execution_count": 9,
     "metadata": {},
     "output_type": "execute_result"
    }
   ],
   "source": [
    "coins = [1,2,5]\n",
    "amount = 11\n",
    "\n",
    "coinChange(coins, amount)"
   ]
  },
  {
   "cell_type": "code",
   "execution_count": null,
   "id": "e0d22eb5",
   "metadata": {},
   "outputs": [],
   "source": []
  }
 ],
 "metadata": {
  "kernelspec": {
   "display_name": "base",
   "language": "python",
   "name": "python3"
  },
  "language_info": {
   "codemirror_mode": {
    "name": "ipython",
    "version": 3
   },
   "file_extension": ".py",
   "mimetype": "text/x-python",
   "name": "python",
   "nbconvert_exporter": "python",
   "pygments_lexer": "ipython3",
   "version": "3.12.10"
  }
 },
 "nbformat": 4,
 "nbformat_minor": 5
}
