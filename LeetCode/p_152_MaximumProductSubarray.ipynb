{
 "cells": [
  {
   "cell_type": "markdown",
   "id": "226139d1",
   "metadata": {},
   "source": [
    "# 152. Maximum Product Subarray\n",
    "\n",
    "Leetcode: https://leetcode.com/problems/maximum-product-subarray/\n",
    "\n",
    "YT solution: https://youtu.be/hnswaLJvr6g?si=Wr6tCyDJySOp383J"
   ]
  },
  {
   "cell_type": "code",
   "execution_count": 46,
   "id": "b3c50160",
   "metadata": {},
   "outputs": [],
   "source": [
    "nums = [[-3,-1,-1],[2,3,-2,4],[-2,0,-1],[-4,-3],[0,2]]"
   ]
  },
  {
   "cell_type": "code",
   "execution_count": null,
   "id": "8e9b5a34",
   "metadata": {},
   "outputs": [],
   "source": [
    "def maxProduct(arr):\n",
    "    prefix, suffix = 1,1\n",
    "    maxi = arr[0]\n",
    "    for i in range(0, len(arr)):\n",
    "        if prefix == 0:\n",
    "            prefix = 1\n",
    "        if suffix == 0 :\n",
    "            suffix = 1\n",
    "        prefix = prefix * arr[i]\n",
    "        suffix = suffix * arr[len(arr)-1-i] \n",
    "        maxi = max(maxi, max(prefix, suffix))\n",
    "    return maxi\n"
   ]
  },
  {
   "cell_type": "code",
   "execution_count": null,
   "id": "83f1d77e",
   "metadata": {},
   "outputs": [
    {
     "name": "stdout",
     "output_type": "stream",
     "text": [
      "3\n",
      "6\n",
      "0\n",
      "12\n",
      "2\n"
     ]
    }
   ],
   "source": [
    "for i in nums:\n",
    "    print(maxProduct(i))"
   ]
  },
  {
   "cell_type": "code",
   "execution_count": null,
   "id": "3873cb56",
   "metadata": {},
   "outputs": [],
   "source": []
  }
 ],
 "metadata": {
  "kernelspec": {
   "display_name": "base",
   "language": "python",
   "name": "python3"
  },
  "language_info": {
   "codemirror_mode": {
    "name": "ipython",
    "version": 3
   },
   "file_extension": ".py",
   "mimetype": "text/x-python",
   "name": "python",
   "nbconvert_exporter": "python",
   "pygments_lexer": "ipython3",
   "version": "3.12.10"
  }
 },
 "nbformat": 4,
 "nbformat_minor": 5
}
