{
 "cells": [
  {
   "cell_type": "markdown",
   "id": "34b5499c",
   "metadata": {},
   "source": [
    "# 268. Missing Number\n",
    "\n",
    "Leetcode: https://leetcode.com/problems/missing-number/description/"
   ]
  },
  {
   "cell_type": "code",
   "execution_count": 6,
   "id": "e82098f8",
   "metadata": {},
   "outputs": [],
   "source": [
    "nums = [0,1]"
   ]
  },
  {
   "cell_type": "markdown",
   "id": "051f84e8",
   "metadata": {},
   "source": [
    "## Using Hashing"
   ]
  },
  {
   "cell_type": "code",
   "execution_count": 15,
   "id": "e42bf735",
   "metadata": {},
   "outputs": [],
   "source": [
    "\n",
    "\n",
    "def missingNumber(nums):\n",
    "    hashset = [0]*(len(nums)+1)\n",
    "    for i in nums:\n",
    "        hashset[i] = 1\n",
    "    for i in range(len(hashset)) :\n",
    "        if hashset[i] == 0:\n",
    "            return i\n"
   ]
  },
  {
   "cell_type": "code",
   "execution_count": 16,
   "id": "6ddada89",
   "metadata": {},
   "outputs": [
    {
     "data": {
      "text/plain": [
       "2"
      ]
     },
     "execution_count": 16,
     "metadata": {},
     "output_type": "execute_result"
    }
   ],
   "source": [
    "missingNumber(nums)"
   ]
  },
  {
   "cell_type": "markdown",
   "id": "64efd835",
   "metadata": {},
   "source": [
    "## Optimal Solutions\n"
   ]
  },
  {
   "cell_type": "markdown",
   "id": "0c9094e9",
   "metadata": {},
   "source": [
    "### 1. Using Sum"
   ]
  },
  {
   "cell_type": "code",
   "execution_count": 23,
   "id": "c5fef46c",
   "metadata": {},
   "outputs": [
    {
     "data": {
      "text/plain": [
       "2"
      ]
     },
     "execution_count": 23,
     "metadata": {},
     "output_type": "execute_result"
    }
   ],
   "source": [
    "def missingNumber2(nums):\n",
    "    n = len(nums)\n",
    "    totalSum = (n * (n+1)) / 2\n",
    "    partialSum = sum(nums)\n",
    "    if partialSum != totalSum :\n",
    "        return int(totalSum - partialSum)\n",
    "    else:\n",
    "        return 0\n",
    "\n",
    "missingNumber2(nums)   "
   ]
  },
  {
   "cell_type": "markdown",
   "id": "66b9812c",
   "metadata": {},
   "source": [
    "### 2. Using XOR"
   ]
  },
  {
   "cell_type": "code",
   "execution_count": 24,
   "id": "1d2f8491",
   "metadata": {},
   "outputs": [
    {
     "data": {
      "text/plain": [
       "2"
      ]
     },
     "execution_count": 24,
     "metadata": {},
     "output_type": "execute_result"
    }
   ],
   "source": [
    "def missingNumber3(nums):\n",
    "    xor1 = 0\n",
    "    for i in range(0,len(nums)+1):\n",
    "        xor1 ^= i\n",
    "\n",
    "    xor2 = 0\n",
    "    for i in nums:\n",
    "        xor2 ^= i\n",
    "\n",
    "    return (xor1^xor2)\n",
    "\n",
    "missingNumber3(nums)"
   ]
  },
  {
   "cell_type": "code",
   "execution_count": null,
   "id": "8448479d",
   "metadata": {},
   "outputs": [],
   "source": []
  }
 ],
 "metadata": {
  "kernelspec": {
   "display_name": "base",
   "language": "python",
   "name": "python3"
  },
  "language_info": {
   "codemirror_mode": {
    "name": "ipython",
    "version": 3
   },
   "file_extension": ".py",
   "mimetype": "text/x-python",
   "name": "python",
   "nbconvert_exporter": "python",
   "pygments_lexer": "ipython3",
   "version": "3.12.10"
  }
 },
 "nbformat": 4,
 "nbformat_minor": 5
}
