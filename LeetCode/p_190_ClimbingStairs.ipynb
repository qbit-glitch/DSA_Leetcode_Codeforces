{
 "cells": [
  {
   "cell_type": "markdown",
   "id": "a5ff7aec",
   "metadata": {},
   "source": [
    "# 190. Climbing Stairs\n",
    "\n",
    "Leetcode: https://leetcode.com/problems/climbing-stairs/\n",
    "\n"
   ]
  },
  {
   "cell_type": "code",
   "execution_count": 11,
   "id": "5699734f",
   "metadata": {},
   "outputs": [],
   "source": [
    "class Solution(object):\n",
    "    def climbStairs(self, n):\n",
    "        \"\"\"\n",
    "        :type n: int\n",
    "        :rtype: int\n",
    "        \"\"\"\n",
    "        dp = [-1] * (n+1)\n",
    "        return self.fib(n, dp)\n",
    "\n",
    "    def fib(self, n, dp):\n",
    "        if dp[n] != -1:\n",
    "            return dp[n]\n",
    "\n",
    "        elif n <= 1:\n",
    "            dp[n] = 1\n",
    "            return dp[n]\n",
    "        \n",
    "        else:\n",
    "            dp[n] = self.fib(n-1, dp) + self.fib(n-2, dp)\n",
    "            return dp[n]\n",
    "\n",
    "        "
   ]
  },
  {
   "cell_type": "code",
   "execution_count": null,
   "id": "3924b195",
   "metadata": {},
   "outputs": [],
   "source": []
  }
 ],
 "metadata": {
  "kernelspec": {
   "display_name": "base",
   "language": "python",
   "name": "python3"
  },
  "language_info": {
   "codemirror_mode": {
    "name": "ipython",
    "version": 3
   },
   "file_extension": ".py",
   "mimetype": "text/x-python",
   "name": "python",
   "nbconvert_exporter": "python",
   "pygments_lexer": "ipython3",
   "version": "3.12.10"
  }
 },
 "nbformat": 4,
 "nbformat_minor": 5
}
