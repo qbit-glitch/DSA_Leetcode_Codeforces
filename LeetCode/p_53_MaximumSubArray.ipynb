{
 "cells": [
  {
   "cell_type": "markdown",
   "id": "04eeaebf",
   "metadata": {},
   "source": [
    "## Maximum SubArray\n",
    "\n",
    "Leetcode-53 : https://leetcode.com/problems/maximum-subarray/"
   ]
  },
  {
   "cell_type": "markdown",
   "id": "8011c08a",
   "metadata": {},
   "source": [
    "## Concept : Sliding Window\n",
    "\n",
    "YT : https://youtu.be/dOonV4byDEg?si=fwwLE2KB8x_NHH9L"
   ]
  },
  {
   "cell_type": "markdown",
   "id": "01ca3058",
   "metadata": {},
   "source": [
    "### Fixed Window Size : \n"
   ]
  },
  {
   "cell_type": "code",
   "execution_count": 1,
   "id": "b9f03a8b",
   "metadata": {},
   "outputs": [
    {
     "data": {
      "text/plain": [
       "18"
      ]
     },
     "execution_count": 1,
     "metadata": {},
     "output_type": "execute_result"
    }
   ],
   "source": [
    "a = [8,3,-2,4,5,-1,0,5,3,9,-6]\n",
    "k = 5    # -> Sliding window size\n",
    "curr = best = sum(a[:k])\n",
    "for r in range(k, len(a)):\n",
    "    curr = curr + a[r] - a[r-k]\n",
    "    best = max(best,curr)\n",
    "\n",
    "best"
   ]
  },
  {
   "cell_type": "markdown",
   "id": "650a97a8",
   "metadata": {},
   "source": [
    "### Variable Window Size:"
   ]
  },
  {
   "cell_type": "code",
   "execution_count": 3,
   "id": "3ac2fac7",
   "metadata": {},
   "outputs": [
    {
     "data": {
      "text/plain": [
       "5"
      ]
     },
     "execution_count": 3,
     "metadata": {},
     "output_type": "execute_result"
    }
   ],
   "source": [
    "a = [4,5,2,0,1,8,12,3,6,9]\n",
    "# Longest Subarray with sum < S : S = 15\n",
    "\n",
    "s = 15\n",
    "l, curr, best = -1, 0, 0\n",
    "for r in range(len(a)):\n",
    "    curr += a[r]\n",
    "    while curr >= s:\n",
    "        l += 1\n",
    "        curr -= a[l]\n",
    "    best = max(best, r-l)\n",
    "\n",
    "best"
   ]
  },
  {
   "cell_type": "markdown",
   "id": "5d5baa31",
   "metadata": {},
   "source": [
    "## Solution to the problem : "
   ]
  },
  {
   "cell_type": "markdown",
   "id": "617c25ca",
   "metadata": {},
   "source": [
    "YT : https://youtu.be/5WZl3MMT0Eg?si=NhNCSTJnKV0a9Iv8\n",
    "    \n"
   ]
  },
  {
   "cell_type": "code",
   "execution_count": 14,
   "id": "2ffc607c",
   "metadata": {},
   "outputs": [
    {
     "data": {
      "text/plain": [
       "6"
      ]
     },
     "execution_count": 14,
     "metadata": {},
     "output_type": "execute_result"
    }
   ],
   "source": [
    "maxSub = nums[0]\n",
    "curSum = 0\n",
    "\n",
    "for n in nums:\n",
    "    if curSum < 0:\n",
    "        curSum = 0\n",
    "    curSum += n\n",
    "    maxSub = max(maxSub, curSum)\n",
    "\n",
    "maxSub"
   ]
  },
  {
   "cell_type": "code",
   "execution_count": null,
   "id": "8272ece8",
   "metadata": {},
   "outputs": [],
   "source": []
  }
 ],
 "metadata": {
  "kernelspec": {
   "display_name": "base",
   "language": "python",
   "name": "python3"
  },
  "language_info": {
   "codemirror_mode": {
    "name": "ipython",
    "version": 3
   },
   "file_extension": ".py",
   "mimetype": "text/x-python",
   "name": "python",
   "nbconvert_exporter": "python",
   "pygments_lexer": "ipython3",
   "version": "3.12.10"
  }
 },
 "nbformat": 4,
 "nbformat_minor": 5
}
