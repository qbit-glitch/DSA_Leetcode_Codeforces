{
 "cells": [
  {
   "cell_type": "markdown",
   "id": "bef23a0f",
   "metadata": {},
   "source": [
    "# 153. Find Minimum in Rotated Sorted Array\n",
    "\n",
    "Leetcode: https://leetcode.com/problems/find-minimum-in-rotated-sorted-array/description/\n",
    "\n"
   ]
  },
  {
   "cell_type": "code",
   "execution_count": 12,
   "id": "3a6298c2",
   "metadata": {},
   "outputs": [],
   "source": [
    "nums = [[11,13,15,17], [3,4,5,1,2]]"
   ]
  },
  {
   "cell_type": "code",
   "execution_count": 15,
   "id": "75a3608b",
   "metadata": {},
   "outputs": [],
   "source": [
    "def findMin(nums):\n",
    "\n",
    "    x = nums[0]\n",
    "    i = 1\n",
    "\n",
    "    while i<(len(nums)) and nums[i]>x:\n",
    "        i = 2*i\n",
    "\n",
    "    l = i//2\n",
    "    h = i\n",
    "\n",
    "    mini = nums[0]\n",
    "    for i in range(l,min(h+1, len(nums)-1)):\n",
    "        if nums[i] > nums[i+1]:\n",
    "            mini = nums[i+1]\n",
    "            break\n",
    "\n",
    "    return mini\n",
    "\n",
    "\n"
   ]
  },
  {
   "cell_type": "code",
   "execution_count": 16,
   "id": "20509f09",
   "metadata": {},
   "outputs": [
    {
     "name": "stdout",
     "output_type": "stream",
     "text": [
      "11\n",
      "1\n"
     ]
    }
   ],
   "source": [
    "for array in nums:\n",
    "    print(findMin(array))"
   ]
  },
  {
   "cell_type": "code",
   "execution_count": null,
   "id": "1d54202a",
   "metadata": {},
   "outputs": [],
   "source": []
  }
 ],
 "metadata": {
  "kernelspec": {
   "display_name": "base",
   "language": "python",
   "name": "python3"
  },
  "language_info": {
   "codemirror_mode": {
    "name": "ipython",
    "version": 3
   },
   "file_extension": ".py",
   "mimetype": "text/x-python",
   "name": "python",
   "nbconvert_exporter": "python",
   "pygments_lexer": "ipython3",
   "version": "3.12.10"
  }
 },
 "nbformat": 4,
 "nbformat_minor": 5
}
